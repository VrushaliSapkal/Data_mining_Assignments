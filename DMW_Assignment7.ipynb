{
  "nbformat": 4,
  "nbformat_minor": 0,
  "metadata": {
    "colab": {
      "provenance": [],
      "authorship_tag": "ABX9TyN873KyoLVn8yciCrAcsobD",
      "include_colab_link": true
    },
    "kernelspec": {
      "name": "python3",
      "display_name": "Python 3"
    },
    "language_info": {
      "name": "python"
    }
  },
  "cells": [
    {
      "cell_type": "markdown",
      "metadata": {
        "id": "view-in-github",
        "colab_type": "text"
      },
      "source": [
        "<a href=\"https://colab.research.google.com/github/VrushaliSapkal/Data_mining_Assignments/blob/main/DMW_Assignment7.ipynb\" target=\"_parent\"><img src=\"https://colab.research.google.com/assets/colab-badge.svg\" alt=\"Open In Colab\"/></a>"
      ]
    },
    {
      "cell_type": "markdown",
      "source": [
        "# Assignment No 7 - Implementation of similarity and dissimilarity measures"
      ],
      "metadata": {
        "id": "BNa-Iww6viKR"
      }
    },
    {
      "cell_type": "markdown",
      "source": [
        "**Numeric similarity and dissimilarty**"
      ],
      "metadata": {
        "id": "qjOTCSxrvpvv"
      }
    },
    {
      "cell_type": "code",
      "source": [
        "#euclidean distance \n",
        "from math import*\n",
        " \n",
        "def euclidean_distance(x,y):\n",
        " \n",
        "    return sqrt(sum(pow(a-b,2) for a, b in zip(x, y)))"
      ],
      "metadata": {
        "id": "prRfDcD4vokW"
      },
      "execution_count": 1,
      "outputs": []
    },
    {
      "cell_type": "code",
      "source": [
        "print(euclidean_distance([0,4,5,8],[7,2,5,-2]))\n"
      ],
      "metadata": {
        "colab": {
          "base_uri": "https://localhost:8080/"
        },
        "id": "n3JOVOQcvyCL",
        "outputId": "60dddc7a-8798-4c3e-a02a-f196e176ac15"
      },
      "execution_count": 3,
      "outputs": [
        {
          "output_type": "stream",
          "name": "stdout",
          "text": [
            "12.36931687685298\n"
          ]
        }
      ]
    },
    {
      "cell_type": "code",
      "source": [
        "#manhattan distance \n",
        "from math import*\n",
        " \n",
        "def manhattan_distance(x,y):\n",
        " \n",
        "    return sum(abs(a-b) for a,b in zip(x,y))"
      ],
      "metadata": {
        "id": "-ElydcETv2oj"
      },
      "execution_count": 4,
      "outputs": []
    },
    {
      "cell_type": "code",
      "source": [
        "print(manhattan_distance([20,30,10],[40,20,20]))"
      ],
      "metadata": {
        "colab": {
          "base_uri": "https://localhost:8080/"
        },
        "id": "Zxsa6AN9wExL",
        "outputId": "900fac57-1b39-4207-83bf-8a4628ddfd03"
      },
      "execution_count": 5,
      "outputs": [
        {
          "output_type": "stream",
          "name": "stdout",
          "text": [
            "40\n"
          ]
        }
      ]
    },
    {
      "cell_type": "code",
      "source": [
        "#minkowski distance \n",
        "\n",
        "from math import*\n",
        "from decimal import Decimal\n",
        " \n",
        "def nth_root(value, n_root):\n",
        " \n",
        "    root_value = 1/float(n_root)\n",
        "    return round (Decimal(value) ** Decimal(root_value),3)\n",
        " \n",
        "def minkowski_distance(x,y,p_value):\n",
        " \n",
        "    return nth_root(sum(pow(abs(a-b),p_value) for a,b in zip(x, y)),p_value)"
      ],
      "metadata": {
        "id": "huXRLJoTwMrh"
      },
      "execution_count": 6,
      "outputs": []
    },
    {
      "cell_type": "code",
      "source": [
        "print (minkowski_distance([0,3,6,5],[7,3,6,-1],3))\n"
      ],
      "metadata": {
        "colab": {
          "base_uri": "https://localhost:8080/"
        },
        "id": "NqFGkyU4wRJF",
        "outputId": "f51b99cf-3129-4050-da7d-5f830bb0ba36"
      },
      "execution_count": 8,
      "outputs": [
        {
          "output_type": "stream",
          "name": "stdout",
          "text": [
            "8.238\n"
          ]
        }
      ]
    },
    {
      "cell_type": "markdown",
      "source": [
        "**Cosine similarity and dissimilarty**"
      ],
      "metadata": {
        "id": "SzknilM-wsrC"
      }
    },
    {
      "cell_type": "code",
      "source": [
        "from math import*\n",
        " \n",
        "def square_rooted(x):\n",
        " \n",
        "    return round(sqrt(sum([a*a for a in x])),3)\n",
        " \n",
        "def cosine_similarity(x,y):\n",
        "    numerator = sum(a*b for a,b in zip(x,y))\n",
        "    denominator = square_rooted(x)*square_rooted(y)\n",
        "    return round(numerator/float(denominator),3)\n"
      ],
      "metadata": {
        "id": "I2r0E0QcwT43"
      },
      "execution_count": 9,
      "outputs": []
    },
    {
      "cell_type": "code",
      "source": [
        "print(cosine_similarity([4, 35, 9, 5], [1, 58, 12, 12]))"
      ],
      "metadata": {
        "colab": {
          "base_uri": "https://localhost:8080/"
        },
        "id": "haUq7QO0w0Uy",
        "outputId": "b01b89e3-eedf-4195-fe58-253fbd35833e"
      },
      "execution_count": 13,
      "outputs": [
        {
          "output_type": "stream",
          "name": "stdout",
          "text": [
            "0.993\n"
          ]
        }
      ]
    },
    {
      "cell_type": "code",
      "source": [],
      "metadata": {
        "id": "tsSRm8M1w7HK"
      },
      "execution_count": null,
      "outputs": []
    }
  ]
}